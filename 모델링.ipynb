{
 "cells": [
  {
   "cell_type": "code",
   "execution_count": 1,
   "id": "c75bb922",
   "metadata": {},
   "outputs": [],
   "source": [
    "import pandas as pd\n",
    "import numpy as np\n",
    "import matplotlib.pyplot as plt\n",
    "import seaborn as sns\n",
    "from matplotlib import font_manager, rc\n",
    "import warnings\n",
    "warnings.filterwarnings('ignore')\n",
    "\n",
    "# row 생략 없이 출력\n",
    "pd.set_option('display.max_rows', None)\n",
    "\n",
    "# col 생략 없이 출력\n",
    "pd.set_option('display.max_columns', None)\n",
    "\n",
    "all_data_old = pd.read_csv('pdde_copu_lpay_data.csv')\n",
    "all_data=pd.read_csv('all_data.csv')\n",
    "demo_12 = pd.read_csv(\"demo_12.csv\")\n",
    "\n",
    "pdde = pd.read_csv(\"E:/Kaggle_Practice/LotteMembers/LPOINT_BIG_COMP_02_PDDE.csv\")\n",
    "copu = pd.read_csv(\"E:/Kaggle_Practice/LotteMembers/LPOINT_BIG_COMP_03_COP_U.csv\")\n",
    "pdclac = pd.read_csv(\"E:/Kaggle_Practice/LotteMembers/LPOINT_BIG_COMP_04_PD_CLAC.csv\")\n",
    "br = pd.read_csv(\"E:/Kaggle_Practice/LotteMembers/LPOINT_BIG_COMP_05_BR.csv\")\n",
    "lpay = pd.read_csv(\"E:/Kaggle_Practice/LotteMembers/LPOINT_BIG_COMP_06_LPAY.csv\")"
   ]
  },
  {
   "cell_type": "code",
   "execution_count": 2,
   "id": "33d2cae1",
   "metadata": {},
   "outputs": [],
   "source": [
    "from sklearn.linear_model import LogisticRegression\n",
    "from sklearn.neighbors import KNeighborsClassifier\n",
    "from sklearn.svm import SVC\n",
    "from sklearn.tree import DecisionTreeClassifier\n",
    "from sklearn.ensemble import RandomForestClassifier\n",
    "from sklearn.neural_network import MLPClassifier\n",
    "from sklearn.ensemble import AdaBoostClassifier\n",
    "from sklearn.ensemble import GradientBoostingClassifier\n",
    "from sklearn.ensemble import ExtraTreesClassifier\n",
    "from sklearn.linear_model import LogisticRegression\n",
    "from sklearn.model_selection import train_test_split\n",
    "from sklearn.metrics import accuracy_score\n",
    "from xgboost import XGBClassifier\n",
    "from lightgbm import LGBMClassifier\n",
    "from catboost import CatBoostClassifier\n",
    "from sklearn import metrics\n",
    "from sklearn.metrics import roc_curve\n",
    "from sklearn.metrics import recall_score, confusion_matrix, precision_score, f1_score, accuracy_score, classification_report,roc_auc_score\n",
    "from sklearn.preprocessing import PolynomialFeatures\n",
    "from sklearn.model_selection import cross_val_score\n",
    "from sklearn.model_selection import GridSearchCV\n",
    "from scipy.stats import uniform"
   ]
  },
  {
   "cell_type": "code",
   "execution_count": 3,
   "id": "1fb38cb1",
   "metadata": {},
   "outputs": [
    {
     "data": {
      "text/plain": [
       "cust               0\n",
       "ma_fem_dv          0\n",
       "ages               0\n",
       "zon_hlv            0\n",
       "Spent              0\n",
       "Frequency          0\n",
       "OnNum              0\n",
       "OffNum             0\n",
       "AssoNum            0\n",
       "LpayNum            0\n",
       "Duration           0\n",
       "ChildYes           0\n",
       "CarYes             0\n",
       "SmokeYes           0\n",
       "PetYes             0\n",
       "NumOfProduct       0\n",
       "AvgProductOfBkt    0\n",
       "AvgBktAmt          0\n",
       "StoreVstNum        0\n",
       "Lpay               0\n",
       "Shop_day           0\n",
       "dtype: int64"
      ]
     },
     "execution_count": 3,
     "metadata": {},
     "output_type": "execute_result"
    }
   ],
   "source": [
    "demo_12.isnull().sum()"
   ]
  },
  {
   "cell_type": "code",
   "execution_count": 4,
   "id": "f3f89378",
   "metadata": {},
   "outputs": [],
   "source": [
    "demo_13 = demo_12.copy()"
   ]
  },
  {
   "cell_type": "code",
   "execution_count": 5,
   "id": "e264c17c",
   "metadata": {},
   "outputs": [
    {
     "data": {
      "text/html": [
       "<div>\n",
       "<style scoped>\n",
       "    .dataframe tbody tr th:only-of-type {\n",
       "        vertical-align: middle;\n",
       "    }\n",
       "\n",
       "    .dataframe tbody tr th {\n",
       "        vertical-align: top;\n",
       "    }\n",
       "\n",
       "    .dataframe thead th {\n",
       "        text-align: right;\n",
       "    }\n",
       "</style>\n",
       "<table border=\"1\" class=\"dataframe\">\n",
       "  <thead>\n",
       "    <tr style=\"text-align: right;\">\n",
       "      <th></th>\n",
       "      <th>ma_fem_dv</th>\n",
       "      <th>ages</th>\n",
       "      <th>zon_hlv</th>\n",
       "      <th>Spent</th>\n",
       "      <th>Frequency</th>\n",
       "      <th>OnNum</th>\n",
       "      <th>OffNum</th>\n",
       "      <th>AssoNum</th>\n",
       "      <th>LpayNum</th>\n",
       "      <th>Duration</th>\n",
       "      <th>ChildYes</th>\n",
       "      <th>CarYes</th>\n",
       "      <th>SmokeYes</th>\n",
       "      <th>PetYes</th>\n",
       "      <th>NumOfProduct</th>\n",
       "      <th>AvgProductOfBkt</th>\n",
       "      <th>AvgBktAmt</th>\n",
       "      <th>StoreVstNum</th>\n",
       "      <th>Lpay</th>\n",
       "      <th>Shop_day</th>\n",
       "    </tr>\n",
       "  </thead>\n",
       "  <tbody>\n",
       "    <tr>\n",
       "      <th>0</th>\n",
       "      <td>여성</td>\n",
       "      <td>40대</td>\n",
       "      <td>Z07</td>\n",
       "      <td>658020</td>\n",
       "      <td>13</td>\n",
       "      <td>0</td>\n",
       "      <td>13</td>\n",
       "      <td>1</td>\n",
       "      <td>0</td>\n",
       "      <td>341</td>\n",
       "      <td>0</td>\n",
       "      <td>0</td>\n",
       "      <td>0</td>\n",
       "      <td>1</td>\n",
       "      <td>37</td>\n",
       "      <td>4.0</td>\n",
       "      <td>50616.92</td>\n",
       "      <td>5.0</td>\n",
       "      <td>0</td>\n",
       "      <td>0</td>\n",
       "    </tr>\n",
       "    <tr>\n",
       "      <th>1</th>\n",
       "      <td>여성</td>\n",
       "      <td>30대</td>\n",
       "      <td>Z12</td>\n",
       "      <td>46000</td>\n",
       "      <td>1</td>\n",
       "      <td>1</td>\n",
       "      <td>0</td>\n",
       "      <td>1</td>\n",
       "      <td>0</td>\n",
       "      <td>1</td>\n",
       "      <td>0</td>\n",
       "      <td>0</td>\n",
       "      <td>0</td>\n",
       "      <td>0</td>\n",
       "      <td>0</td>\n",
       "      <td>0.0</td>\n",
       "      <td>46000.00</td>\n",
       "      <td>1.0</td>\n",
       "      <td>0</td>\n",
       "      <td>3</td>\n",
       "    </tr>\n",
       "    <tr>\n",
       "      <th>2</th>\n",
       "      <td>여성</td>\n",
       "      <td>30대</td>\n",
       "      <td>Z11</td>\n",
       "      <td>28748531</td>\n",
       "      <td>89</td>\n",
       "      <td>9</td>\n",
       "      <td>80</td>\n",
       "      <td>15</td>\n",
       "      <td>4</td>\n",
       "      <td>360</td>\n",
       "      <td>1</td>\n",
       "      <td>0</td>\n",
       "      <td>0</td>\n",
       "      <td>0</td>\n",
       "      <td>59</td>\n",
       "      <td>1.0</td>\n",
       "      <td>323017.20</td>\n",
       "      <td>5.0</td>\n",
       "      <td>1</td>\n",
       "      <td>4</td>\n",
       "    </tr>\n",
       "    <tr>\n",
       "      <th>3</th>\n",
       "      <td>여성</td>\n",
       "      <td>50대</td>\n",
       "      <td>Z17</td>\n",
       "      <td>53120</td>\n",
       "      <td>5</td>\n",
       "      <td>0</td>\n",
       "      <td>5</td>\n",
       "      <td>0</td>\n",
       "      <td>0</td>\n",
       "      <td>126</td>\n",
       "      <td>0</td>\n",
       "      <td>0</td>\n",
       "      <td>0</td>\n",
       "      <td>0</td>\n",
       "      <td>19</td>\n",
       "      <td>4.0</td>\n",
       "      <td>10624.00</td>\n",
       "      <td>3.0</td>\n",
       "      <td>0</td>\n",
       "      <td>0</td>\n",
       "    </tr>\n",
       "    <tr>\n",
       "      <th>4</th>\n",
       "      <td>여성</td>\n",
       "      <td>40대</td>\n",
       "      <td>Z17</td>\n",
       "      <td>2253900</td>\n",
       "      <td>88</td>\n",
       "      <td>0</td>\n",
       "      <td>88</td>\n",
       "      <td>10</td>\n",
       "      <td>0</td>\n",
       "      <td>304</td>\n",
       "      <td>0</td>\n",
       "      <td>0</td>\n",
       "      <td>0</td>\n",
       "      <td>0</td>\n",
       "      <td>61</td>\n",
       "      <td>2.0</td>\n",
       "      <td>25612.50</td>\n",
       "      <td>8.0</td>\n",
       "      <td>0</td>\n",
       "      <td>2</td>\n",
       "    </tr>\n",
       "  </tbody>\n",
       "</table>\n",
       "</div>"
      ],
      "text/plain": [
       "  ma_fem_dv ages zon_hlv     Spent  Frequency  OnNum  OffNum  AssoNum  \\\n",
       "0        여성  40대     Z07    658020         13      0      13        1   \n",
       "1        여성  30대     Z12     46000          1      1       0        1   \n",
       "2        여성  30대     Z11  28748531         89      9      80       15   \n",
       "3        여성  50대     Z17     53120          5      0       5        0   \n",
       "4        여성  40대     Z17   2253900         88      0      88       10   \n",
       "\n",
       "   LpayNum  Duration  ChildYes  CarYes  SmokeYes  PetYes  NumOfProduct  \\\n",
       "0        0       341         0       0         0       1            37   \n",
       "1        0         1         0       0         0       0             0   \n",
       "2        4       360         1       0         0       0            59   \n",
       "3        0       126         0       0         0       0            19   \n",
       "4        0       304         0       0         0       0            61   \n",
       "\n",
       "   AvgProductOfBkt  AvgBktAmt  StoreVstNum  Lpay  Shop_day  \n",
       "0              4.0   50616.92          5.0     0         0  \n",
       "1              0.0   46000.00          1.0     0         3  \n",
       "2              1.0  323017.20          5.0     1         4  \n",
       "3              4.0   10624.00          3.0     0         0  \n",
       "4              2.0   25612.50          8.0     0         2  "
      ]
     },
     "execution_count": 5,
     "metadata": {},
     "output_type": "execute_result"
    }
   ],
   "source": [
    "demo_13 = demo_13.drop('cust',axis=1)\n",
    "demo_13.head()"
   ]
  },
  {
   "cell_type": "code",
   "execution_count": 6,
   "id": "f5147788",
   "metadata": {},
   "outputs": [],
   "source": [
    "temp=demo_13[['Lpay','ma_fem_dv', 'ages', 'zon_hlv', 'Spent', 'Frequency', 'OnNum', 'OffNum',\n",
    "       'AssoNum', 'Duration','NumOfProduct', 'AvgBktAmt']]"
   ]
  },
  {
   "cell_type": "code",
   "execution_count": 7,
   "id": "5f47bfd0",
   "metadata": {},
   "outputs": [],
   "source": [
    "temp = pd.get_dummies(temp, columns =['ma_fem_dv', 'ages', 'zon_hlv'])"
   ]
  },
  {
   "cell_type": "code",
   "execution_count": 8,
   "id": "2f52fb51",
   "metadata": {},
   "outputs": [
    {
     "data": {
      "text/plain": [
       "Index(['Lpay', 'Spent', 'Frequency', 'OnNum', 'OffNum', 'AssoNum', 'Duration',\n",
       "       'NumOfProduct', 'AvgBktAmt', 'ma_fem_dv_남성', 'ma_fem_dv_여성', 'ages_20대',\n",
       "       'ages_30대', 'ages_40대', 'ages_50대', 'ages_60대', 'ages_70대',\n",
       "       'zon_hlv_Z01', 'zon_hlv_Z02', 'zon_hlv_Z03', 'zon_hlv_Z04',\n",
       "       'zon_hlv_Z05', 'zon_hlv_Z06', 'zon_hlv_Z07', 'zon_hlv_Z08',\n",
       "       'zon_hlv_Z09', 'zon_hlv_Z10', 'zon_hlv_Z11', 'zon_hlv_Z12',\n",
       "       'zon_hlv_Z13', 'zon_hlv_Z14', 'zon_hlv_Z15', 'zon_hlv_Z16',\n",
       "       'zon_hlv_Z17'],\n",
       "      dtype='object')"
      ]
     },
     "execution_count": 8,
     "metadata": {},
     "output_type": "execute_result"
    }
   ],
   "source": [
    "temp.columns"
   ]
  },
  {
   "cell_type": "code",
   "execution_count": 9,
   "id": "0ecf3647",
   "metadata": {},
   "outputs": [],
   "source": [
    "cat_df = temp[['ma_fem_dv_남성', 'ma_fem_dv_여성', 'ages_20대',\n",
    "       'ages_30대', 'ages_40대', 'ages_50대', 'ages_60대', 'ages_70대',\n",
    "       'zon_hlv_Z01', 'zon_hlv_Z02', 'zon_hlv_Z03', 'zon_hlv_Z04',\n",
    "       'zon_hlv_Z05', 'zon_hlv_Z06', 'zon_hlv_Z07', 'zon_hlv_Z08',\n",
    "       'zon_hlv_Z09', 'zon_hlv_Z10', 'zon_hlv_Z11', 'zon_hlv_Z12',\n",
    "       'zon_hlv_Z13', 'zon_hlv_Z14', 'zon_hlv_Z15', 'zon_hlv_Z16',\n",
    "       'zon_hlv_Z17']]"
   ]
  },
  {
   "cell_type": "code",
   "execution_count": 10,
   "id": "9a283f47",
   "metadata": {},
   "outputs": [],
   "source": [
    "y = temp[\"Lpay\"]\n",
    "X = temp.drop([\"Lpay\",'ma_fem_dv_남성', 'ma_fem_dv_여성', 'ages_20대',\n",
    "       'ages_30대', 'ages_40대', 'ages_50대', 'ages_60대', 'ages_70대',\n",
    "       'zon_hlv_Z01', 'zon_hlv_Z02', 'zon_hlv_Z03', 'zon_hlv_Z04',\n",
    "       'zon_hlv_Z05', 'zon_hlv_Z06', 'zon_hlv_Z07', 'zon_hlv_Z08',\n",
    "       'zon_hlv_Z09', 'zon_hlv_Z10', 'zon_hlv_Z11', 'zon_hlv_Z12',\n",
    "       'zon_hlv_Z13', 'zon_hlv_Z14', 'zon_hlv_Z15', 'zon_hlv_Z16',\n",
    "       'zon_hlv_Z17'], axis = 1)\n",
    "cols = X.columns\n",
    "index = X.index"
   ]
  },
  {
   "cell_type": "code",
   "execution_count": 11,
   "id": "a3032ae6",
   "metadata": {},
   "outputs": [],
   "source": [
    "from sklearn.preprocessing import RobustScaler\n",
    "transformer = RobustScaler().fit(X)\n",
    "X = transformer.transform(X)\n",
    "X = pd.DataFrame(X, columns = cols, index = index)"
   ]
  },
  {
   "cell_type": "code",
   "execution_count": 12,
   "id": "36e5c4e8",
   "metadata": {},
   "outputs": [],
   "source": [
    "X = pd.concat([X,cat_df], axis = 1)"
   ]
  },
  {
   "cell_type": "code",
   "execution_count": 13,
   "id": "5327106e",
   "metadata": {},
   "outputs": [
    {
     "name": "stdout",
     "output_type": "stream",
     "text": [
      "(29874, 33) (29874,)\n"
     ]
    }
   ],
   "source": [
    "print(X.shape, y.shape)"
   ]
  },
  {
   "cell_type": "code",
   "execution_count": 14,
   "id": "01aaf0c9",
   "metadata": {},
   "outputs": [],
   "source": [
    "# Train-Test Separation\n",
    "X_train, X_test, y_train, y_test = train_test_split(X, y, \n",
    "                                                    test_size=0.20, \n",
    "                                                    random_state=12345)"
   ]
  },
  {
   "cell_type": "code",
   "execution_count": 15,
   "id": "f4f2b8d7",
   "metadata": {},
   "outputs": [],
   "source": [
    "from imblearn.combine import SMOTETomek\n",
    "\n",
    "smk = SMOTETomek()\n",
    "# Oversample training  data\n",
    "X_train, y_train = smk.fit_sample(X_train, y_train)\n",
    "\n",
    "# Oversample validation data\n",
    "X_test, y_test = smk.fit_sample(X_test, y_test)"
   ]
  },
  {
   "cell_type": "code",
   "execution_count": 16,
   "id": "803060ca",
   "metadata": {},
   "outputs": [
    {
     "name": "stdout",
     "output_type": "stream",
     "text": [
      "Before OverSampling, counts of label '1': 16435\n",
      "Before OverSampling, counts of label '0': 16435 \n",
      "\n",
      "After OverSampling, the shape of train_X: (32870, 33)\n",
      "After OverSampling, the shape of train_y: (32870,) \n",
      "\n",
      "After OverSampling, counts of label '1': 16435\n",
      "After OverSampling, counts of label '0': 16435\n"
     ]
    }
   ],
   "source": [
    "print(\"Before OverSampling, counts of label '1': {}\".format(sum(y_train==1)))\n",
    "print(\"Before OverSampling, counts of label '0': {} \\n\".format(sum(y_train==0)))\n",
    "\n",
    "\n",
    "print('After OverSampling, the shape of train_X: {}'.format(X_train.shape))\n",
    "print('After OverSampling, the shape of train_y: {} \\n'.format(y_train.shape))\n",
    "\n",
    "print(\"After OverSampling, counts of label '1': {}\".format(sum(y_train==1)))\n",
    "print(\"After OverSampling, counts of label '0': {}\".format(sum(y_train==0)))"
   ]
  },
  {
   "cell_type": "code",
   "execution_count": 17,
   "id": "010e7717",
   "metadata": {},
   "outputs": [],
   "source": [
    "models = []\n",
    "models.append(('LR', LogisticRegression(random_state = 12345)))\n",
    "models.append(('KNN', KNeighborsClassifier()))\n",
    "models.append(('CART', DecisionTreeClassifier(random_state = 12345)))\n",
    "models.append(('RF', RandomForestClassifier(random_state = 12345)))\n",
    "models.append(('SVM', SVC(gamma='auto', random_state = 12345)))\n",
    "models.append(('XGB', GradientBoostingClassifier(random_state = 12345)))\n",
    "models.append((\"LightGBM\", LGBMClassifier(random_state = 12345)))\n",
    "models.append((\"CatBoost\", CatBoostClassifier(random_state = 12345, verbose = False)))\n",
    "\n",
    "# evaluate each model in turn\n",
    "results = []\n",
    "names = []"
   ]
  },
  {
   "cell_type": "code",
   "execution_count": 18,
   "id": "92501ff1",
   "metadata": {},
   "outputs": [
    {
     "name": "stdout",
     "output_type": "stream",
     "text": [
      "LR: (0.899350)\n",
      "KNN: (0.866723)\n",
      "CART: (0.885023)\n",
      "RF: (0.908500)\n",
      "SVM: (0.896220)\n",
      "XGB: (0.913075)\n",
      "LightGBM: (0.925114)\n",
      "CatBoost: (0.931856)\n"
     ]
    }
   ],
   "source": [
    "for name, model in models:\n",
    "        model.fit(X_train, y_train)\n",
    "        y_pred = model.predict(X_test)\n",
    "        accuracy = accuracy_score(y_test, y_pred)\n",
    "        msg = \"%s: (%f)\" % (name, accuracy)\n",
    "        print(msg)"
   ]
  },
  {
   "cell_type": "code",
   "execution_count": 19,
   "id": "eac1b583",
   "metadata": {},
   "outputs": [],
   "source": [
    "models2 = []\n",
    "models2.append(('CART', DecisionTreeClassifier( random_state = 12345)))\n",
    "models2.append(('RF', RandomForestClassifier( random_state = 12345)))\n",
    "models2.append(('XGB', GradientBoostingClassifier( random_state = 12345)))\n",
    "models2.append((\"LightGBM\", LGBMClassifier( random_state = 12345)))\n",
    "models2.append((\"CatBoost\", CatBoostClassifier(random_state = 12345, verbose = False)))"
   ]
  },
  {
   "cell_type": "code",
   "execution_count": 20,
   "id": "f180b0dc",
   "metadata": {},
   "outputs": [
    {
     "data": {
      "image/png": "[encoded data removed]",
      "text/plain": [
       "<Figure size 432x288 with 1 Axes>"
      ]
     },
     "metadata": {
      "needs_background": "light"
     },
     "output_type": "display_data"
    },
    {
     "data": {
      "image/png": "[encoded data removed]",
      "text/plain": [
       "<Figure size 432x288 with 1 Axes>"
      ]
     },
     "metadata": {
      "needs_background": "light"
     },
     "output_type": "display_data"
    },
    {
     "data": {
      "image/png": "[encoded data removed]",
      "text/plain": [
       "<Figure size 432x288 with 1 Axes>"
      ]
     },
     "metadata": {
      "needs_background": "light"
     },
     "output_type": "display_data"
    },
    {
     "data": {
      "image/png": "[encoded data removed]",
      "text/plain": [
       "<Figure size 432x288 with 1 Axes>"
      ]
     },
     "metadata": {
      "needs_background": "light"
     },
     "output_type": "display_data"
    },
    {
     "data": {
      "image/png": "[encoded data removed]",
      "text/plain": [
       "<Figure size 432x288 with 1 Axes>"
      ]
     },
     "metadata": {
      "needs_background": "light"
     },
     "output_type": "display_data"
    }
   ],
   "source": [
    "font_path = \"C:/Users/katenam/AppData/Local/Microsoft/Windows/Fonts/malgun.ttf\"\n",
    "font = font_manager.FontProperties(fname=font_path).get_name()\n",
    "rc('font', family=font)\n",
    "\n",
    "for name, model in models2:\n",
    "        base = model.fit(X_train,y_train)\n",
    "        y_pred = base.predict(X_test)\n",
    "        acc_score = accuracy_score(y_test, y_pred)\n",
    "        feature_imp = pd.Series(base.feature_importances_,\n",
    "                        index=X.columns).sort_values(ascending=False).head(10)\n",
    "\n",
    "        sns.barplot(x=feature_imp, y=feature_imp.index,palette = 'autumn')\n",
    "        plt.xlabel('Feature importance')\n",
    "        plt.ylabel('Features')\n",
    "        plt.title(name)\n",
    "        plt.show()"
   ]
  },
  {
   "cell_type": "code",
   "execution_count": 23,
   "id": "f81c103b",
   "metadata": {},
   "outputs": [
    {
     "name": "stdout",
     "output_type": "stream",
     "text": [
      "RF: (0.908500)\n",
      "XGB: (0.927522)\n",
      "LightGBM: (0.931495)\n",
      "CatBoost: (0.924874)\n"
     ]
    }
   ],
   "source": [
    "# Hyperparameters have previously been obtained with the help of GridSearchCV.\n",
    "models = []\n",
    "models.append((\"RF\",RandomForestClassifier(random_state =12345, n_estimators=100,criterion='gini')))\n",
    "models.append(('XGB', GradientBoostingClassifier(random_state = 12345,learning_rate = 0.05, max_depth = 5, min_samples_split = 2, n_estimators = 500, subsample = 0.8)))\n",
    "models.append((\"LightGBM\", LGBMClassifier(random_state = 12345,  learning_rate = 0.05, max_depth = 3, n_estimators = 10000)))\n",
    "models.append((\"CatBoost\", CatBoostClassifier(random_state = 12345, verbose = False, depth = 10, iterations = 1000, l2_leaf_reg = 5, learning_rate = 0.01)))\n",
    "\n",
    "\n",
    "# evaluate each model in turn\n",
    "results = []\n",
    "names = []\n",
    "\n",
    "for name, model in models:\n",
    "        model.fit(X_train, y_train)\n",
    "        y_pred = model.predict(X_test)\n",
    "        accuracy = accuracy_score(y_test, y_pred)\n",
    "        msg = \"%s: (%f)\" % (name, accuracy)\n",
    "        print(msg)"
   ]
  },
  {
   "cell_type": "code",
   "execution_count": 32,
   "id": "28ecefea",
   "metadata": {},
   "outputs": [
    {
     "data": {
      "image/png": "[encoded data removed]",
      "text/plain": [
       "<Figure size 432x288 with 1 Axes>"
      ]
     },
     "metadata": {
      "needs_background": "light"
     },
     "output_type": "display_data"
    }
   ],
   "source": [
    "models2 = []\n",
    "models2.append((\"LightGBM\", LGBMClassifier(random_state = 12345,  learning_rate = 0.05, max_depth = 3, n_estimators = 10000)))\n",
    "\n",
    "# evaluate each model in turn\n",
    "results = []\n",
    "names = []\n",
    "\n",
    "for name, model in models2:\n",
    "        base = model.fit(X_train,y_train)\n",
    "        y_pred = base.predict(X_test)\n",
    "        acc_score = accuracy_score(y_test, y_pred)\n",
    "        feature_imp = pd.Series(base.feature_importances_,\n",
    "                        index=X.columns).sort_values(ascending=False).head(10)\n",
    "\n",
    "        sns.barplot(x=feature_imp, y=feature_imp.index,palette = 'autumn')\n",
    "        plt.xlabel('Feature importance')\n",
    "        plt.ylabel('Features')\n",
    "        plt.title(name)\n",
    "        plt.show()"
   ]
  },
  {
   "cell_type": "code",
   "execution_count": null,
   "id": "7d8b90a3",
   "metadata": {},
   "outputs": [],
   "source": []
  },
  {
   "cell_type": "code",
   "execution_count": 33,
   "id": "7de5308b",
   "metadata": {},
   "outputs": [
    {
     "data": {
      "image/png": "[encoded data removed]",
      "text/plain": [
       "<Figure size 432x288 with 1 Axes>"
      ]
     },
     "metadata": {
      "needs_background": "light"
     },
     "output_type": "display_data"
    }
   ],
   "source": [
    "models2 = []\n",
    "models2.append((\"RF\",RandomForestClassifier(random_state =12345, n_estimators=100,criterion='gini')))\n",
    "\n",
    "# evaluate each model in turn\n",
    "results = []\n",
    "names = []\n",
    "\n",
    "for name, model in models2:\n",
    "        base = model.fit(X_train,y_train)\n",
    "        y_pred = base.predict(X_test)\n",
    "        acc_score = accuracy_score(y_test, y_pred)\n",
    "        feature_imp = pd.Series(base.feature_importances_,\n",
    "                        index=X.columns).sort_values(ascending=False).head(10)\n",
    "\n",
    "        sns.barplot(x=feature_imp, y=feature_imp.index,palette = 'autumn')\n",
    "        plt.xlabel('Feature importance')\n",
    "        plt.ylabel('Features')\n",
    "        plt.title(name)\n",
    "        plt.show()"
   ]
  },
  {
   "cell_type": "code",
   "execution_count": 34,
   "id": "340ebc76",
   "metadata": {},
   "outputs": [
    {
     "data": {
      "image/png": "[encoded data removed]",
      "text/plain": [
       "<Figure size 432x288 with 1 Axes>"
      ]
     },
     "metadata": {
      "needs_background": "light"
     },
     "output_type": "display_data"
    }
   ],
   "source": [
    "models2 = []\n",
    "models2.append((\"CatBoost\", CatBoostClassifier(random_state = 12345, verbose = False, depth = 10, iterations = 1000, l2_leaf_reg = 5, learning_rate = 0.01)))\n",
    "\n",
    "# evaluate each model in turn\n",
    "results = []\n",
    "names = []\n",
    "\n",
    "for name, model in models2:\n",
    "        base = model.fit(X_train,y_train)\n",
    "        y_pred = base.predict(X_test)\n",
    "        acc_score = accuracy_score(y_test, y_pred)\n",
    "        feature_imp = pd.Series(base.feature_importances_,\n",
    "                        index=X.columns).sort_values(ascending=False).head(10)\n",
    "\n",
    "        sns.barplot(x=feature_imp, y=feature_imp.index,palette = 'autumn')\n",
    "        plt.xlabel('Feature importance')\n",
    "        plt.ylabel('Features')\n",
    "        plt.title(name)\n",
    "        plt.show()"
   ]
  },
  {
   "cell_type": "code",
   "execution_count": 24,
   "id": "76618ebe",
   "metadata": {},
   "outputs": [
    {
     "data": {
      "image/png": "[encoded data removed]",
      "text/plain": [
       "<Figure size 432x288 with 1 Axes>"
      ]
     },
     "metadata": {
      "needs_background": "light"
     },
     "output_type": "display_data"
    }
   ],
   "source": [
    "models2 = []\n",
    "models2.append((\"RF\",RandomForestClassifier(random_state =12345, n_estimators=100,criterion='gini')))\n",
    "\n",
    "# evaluate each model in turn\n",
    "results = []\n",
    "names = []\n",
    "\n",
    "for name, model in models2:\n",
    "        base = model.fit(X_train,y_train)\n",
    "        y_pred = base.predict(X_test)\n",
    "        acc_score = accuracy_score(y_test, y_pred)\n",
    "        feature_imp = pd.Series(base.feature_importances_,\n",
    "                        index=X.columns).sort_values(ascending=False).head(10)\n",
    "\n",
    "        sns.barplot(x=feature_imp, y=feature_imp.index,palette = 'autumn')\n",
    "        plt.xlabel('Feature importance')\n",
    "        plt.ylabel('Features')\n",
    "        plt.title(name)\n",
    "        plt.show()"
   ]
  },
  {
   "cell_type": "code",
   "execution_count": 27,
   "id": "ca772d3d",
   "metadata": {},
   "outputs": [],
   "source": [
    "y_pred = model.predict(X_test)\n",
    "cm_xgb = confusion_matrix(y_test, y_pred=y_pred)\n",
    "\n",
    "TP = cm_xgb[1, 1]\n",
    "TN = cm_xgb[0, 0]\n",
    "FP = cm_xgb[0, 1]\n",
    "FN = cm_xgb[1, 0]"
   ]
  },
  {
   "cell_type": "code",
   "execution_count": 28,
   "id": "3014a09b",
   "metadata": {},
   "outputs": [],
   "source": [
    "from matplotlib import rc,rcParams\n",
    "def plot_confusion_matrix(cm, classes,\n",
    "                          title='Confusion matrix',\n",
    "                          cmap=plt.cm.Blues):\n",
    "\n",
    "    plt.rcParams.update({'font.size': 19})\n",
    "    plt.imshow(cm, interpolation='nearest', cmap=cmap)\n",
    "    plt.title(title,fontdict={'size':'16'})\n",
    "    plt.colorbar()\n",
    "    tick_marks = np.arange(len(classes))\n",
    "    plt.xticks(tick_marks, classes, rotation=45,fontsize=12,color=\"blue\")\n",
    "    plt.yticks(tick_marks, classes,fontsize=12,color=\"blue\")\n",
    "    rc('font', weight='bold')\n",
    "    fmt = '.1f'\n",
    "    thresh = cm.max()\n",
    "    for i, j in itertools.product(range(cm.shape[0]), range(cm.shape[1])):\n",
    "        plt.text(j, i, format(cm[i, j], fmt),\n",
    "                 horizontalalignment=\"center\",\n",
    "                 color=\"red\")\n",
    "\n",
    "    plt.ylabel('True label',fontdict={'size':'16'})\n",
    "    plt.xlabel('Predicted label',fontdict={'size':'16'})\n",
    "    plt.tight_layout()"
   ]
  },
  {
   "cell_type": "code",
   "execution_count": 29,
   "id": "38c19e67",
   "metadata": {},
   "outputs": [
    {
     "name": "stdout",
     "output_type": "stream",
     "text": [
      "True Negatives:  3894\n",
      "False Positives:  259\n",
      "False Negatives:  310\n",
      "True Positives:  3843\n"
     ]
    }
   ],
   "source": [
    "tn, fp, fn, tp = cm_xgb.ravel()\n",
    "print(\"True Negatives: \",tn)\n",
    "print(\"False Positives: \",fp)\n",
    "print(\"False Negatives: \",fn)\n",
    "print(\"True Positives: \",tp)"
   ]
  },
  {
   "cell_type": "code",
   "execution_count": 31,
   "id": "c8527975",
   "metadata": {},
   "outputs": [
    {
     "data": {
      "text/html": [
       "<div>\n",
       "<style scoped>\n",
       "    .dataframe tbody tr th:only-of-type {\n",
       "        vertical-align: middle;\n",
       "    }\n",
       "\n",
       "    .dataframe tbody tr th {\n",
       "        vertical-align: top;\n",
       "    }\n",
       "\n",
       "    .dataframe thead th {\n",
       "        text-align: right;\n",
       "    }\n",
       "</style>\n",
       "<table border=\"1\" class=\"dataframe\">\n",
       "  <thead>\n",
       "    <tr style=\"text-align: right;\">\n",
       "      <th></th>\n",
       "      <th>y_test</th>\n",
       "      <th>y_pred</th>\n",
       "    </tr>\n",
       "  </thead>\n",
       "  <tbody>\n",
       "    <tr>\n",
       "      <th>1</th>\n",
       "      <td>0</td>\n",
       "      <td>0</td>\n",
       "    </tr>\n",
       "    <tr>\n",
       "      <th>2</th>\n",
       "      <td>1</td>\n",
       "      <td>1</td>\n",
       "    </tr>\n",
       "    <tr>\n",
       "      <th>3</th>\n",
       "      <td>0</td>\n",
       "      <td>0</td>\n",
       "    </tr>\n",
       "    <tr>\n",
       "      <th>4</th>\n",
       "      <td>0</td>\n",
       "      <td>0</td>\n",
       "    </tr>\n",
       "    <tr>\n",
       "      <th>5</th>\n",
       "      <td>0</td>\n",
       "      <td>0</td>\n",
       "    </tr>\n",
       "  </tbody>\n",
       "</table>\n",
       "</div>"
      ],
      "text/plain": [
       "   y_test  y_pred\n",
       "1       0       0\n",
       "2       1       1\n",
       "3       0       0\n",
       "4       0       0\n",
       "5       0       0"
      ]
     },
     "execution_count": 31,
     "metadata": {},
     "output_type": "execute_result"
    }
   ],
   "source": [
    "df_pred = pd.DataFrame(data=[],columns=[\"y_test\"])\n",
    "df_pred[\"y_pred\"] = y_pred\n",
    "df_pred[\"y_test\"] = y_test\n",
    "df_pred.index = df_pred.index + 1\n",
    "df_pred.head()"
   ]
  },
  {
   "cell_type": "code",
   "execution_count": 32,
   "id": "ce0b4b9f",
   "metadata": {},
   "outputs": [],
   "source": [
    "FP_predicts_indexes = [] \n",
    "TP_predicts_indexes=[]\n",
    "FN_predict_indexes =[]\n",
    "TN_predicts_indexes  = []\n",
    "for index, row in df_pred.iterrows():\n",
    "    if row['y_test'] == 0 and row['y_pred'] == 1:\n",
    "        FP_predicts_indexes.append(row.name)\n",
    "    elif row['y_test'] == 1 and row['y_pred'] == 1:\n",
    "        TP_predicts_indexes.append(row.name)\n",
    "    elif row['y_test'] == 0 and row['y_pred'] == 0:\n",
    "        TN_predicts_indexes.append(row.name)\n",
    "    elif row['y_test'] == 1 and row['y_pred'] == 0:\n",
    "        FN_predict_indexes.append(row.name) "
   ]
  },
  {
   "cell_type": "code",
   "execution_count": 33,
   "id": "3d0f3d28",
   "metadata": {},
   "outputs": [
    {
     "data": {
      "text/html": [
       "<div>\n",
       "<style scoped>\n",
       "    .dataframe tbody tr th:only-of-type {\n",
       "        vertical-align: middle;\n",
       "    }\n",
       "\n",
       "    .dataframe tbody tr th {\n",
       "        vertical-align: top;\n",
       "    }\n",
       "\n",
       "    .dataframe thead th {\n",
       "        text-align: right;\n",
       "    }\n",
       "</style>\n",
       "<table border=\"1\" class=\"dataframe\">\n",
       "  <thead>\n",
       "    <tr style=\"text-align: right;\">\n",
       "      <th></th>\n",
       "      <th>y_test</th>\n",
       "      <th>y_pred</th>\n",
       "      <th>prediction_result</th>\n",
       "    </tr>\n",
       "  </thead>\n",
       "  <tbody>\n",
       "    <tr>\n",
       "      <th>1</th>\n",
       "      <td>0</td>\n",
       "      <td>0</td>\n",
       "      <td>TN</td>\n",
       "    </tr>\n",
       "    <tr>\n",
       "      <th>2</th>\n",
       "      <td>1</td>\n",
       "      <td>1</td>\n",
       "      <td>TP</td>\n",
       "    </tr>\n",
       "    <tr>\n",
       "      <th>3</th>\n",
       "      <td>0</td>\n",
       "      <td>0</td>\n",
       "      <td>TN</td>\n",
       "    </tr>\n",
       "    <tr>\n",
       "      <th>4</th>\n",
       "      <td>0</td>\n",
       "      <td>0</td>\n",
       "      <td>TN</td>\n",
       "    </tr>\n",
       "    <tr>\n",
       "      <th>5</th>\n",
       "      <td>0</td>\n",
       "      <td>0</td>\n",
       "      <td>TN</td>\n",
       "    </tr>\n",
       "  </tbody>\n",
       "</table>\n",
       "</div>"
      ],
      "text/plain": [
       "   y_test  y_pred prediction_result\n",
       "1       0       0                TN\n",
       "2       1       1                TP\n",
       "3       0       0                TN\n",
       "4       0       0                TN\n",
       "5       0       0                TN"
      ]
     },
     "execution_count": 33,
     "metadata": {},
     "output_type": "execute_result"
    }
   ],
   "source": [
    "df_pred.loc[TN_predicts_indexes,\"prediction_result\"] = \"TN\"\n",
    "df_pred.loc[TP_predicts_indexes,\"prediction_result\"] = \"TP\"\n",
    "df_pred.loc[FP_predicts_indexes,\"prediction_result\"] = \"FP\"\n",
    "df_pred.loc[FN_predict_indexes,\"prediction_result\"] = \"FN\"\n",
    "df_pred.head()"
   ]
  },
  {
   "cell_type": "code",
   "execution_count": 34,
   "id": "23e5a7a2",
   "metadata": {},
   "outputs": [
    {
     "data": {
      "image/png": "[encoded data removed]",
      "text/plain": [
       "<Figure size 432x288 with 1 Axes>"
      ]
     },
     "metadata": {
      "needs_background": "light"
     },
     "output_type": "display_data"
    }
   ],
   "source": [
    "lbgm_tuned = model\n",
    "from sklearn.metrics import confusion_matrix, classification_report, roc_auc_score, precision_recall_curve, roc_curve, auc, average_precision_score\n",
    "y_pred_prob = lbgm_tuned.predict_proba(X_test)[:,1]\n",
    "fig, ax = plt.subplots()\n",
    "fpr, tpr, thresholds_roc = roc_curve(y_test, y_pred_prob)\n",
    "roc_auc = auc(fpr,tpr)\n",
    "ax.plot(fpr,tpr, label = \" area = {:0.2f}\".format(roc_auc))\n",
    "ax.plot([0,1], [0,1], 'r', linestyle = \"--\", lw = 2)\n",
    "ax.set_xlabel(\"False Positive Rate\", fontsize = 10)\n",
    "ax.set_ylabel(\"True Positive Rate\", fontsize = 10)\n",
    "ax.set_title(\"ROC Curve\", fontsize = 18)\n",
    "ax.legend(loc = 'best')\n",
    "\n",
    "close_default = np.argmin(np.abs(thresholds_roc - 0.5))\n",
    "ax.plot(fpr[close_default], tpr[close_default], 'o', markersize = 8)\n",
    "plt.tight_layout()"
   ]
  },
  {
   "cell_type": "code",
   "execution_count": null,
   "id": "906ea653",
   "metadata": {},
   "outputs": [],
   "source": []
  }
 ],
 "metadata": {
  "kernelspec": {
   "display_name": "Python 3 (ipykernel)",
   "language": "python",
   "name": "python3"
  },
  "language_info": {
   "codemirror_mode": {
    "name": "ipython",
    "version": 3
   },
   "file_extension": ".py",
   "mimetype": "text/x-python",
   "name": "python",
   "nbconvert_exporter": "python",
   "pygments_lexer": "ipython3",
   "version": "3.9.12"
  }
 },
 "nbformat": 4,
 "nbformat_minor": 5
}
